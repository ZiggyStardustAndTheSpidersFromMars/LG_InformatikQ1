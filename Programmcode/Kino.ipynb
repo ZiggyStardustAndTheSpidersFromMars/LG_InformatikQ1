{
  "nbformat": 4,
  "nbformat_minor": 0,
  "metadata": {
    "colab": {
      "provenance": []
    },
    "kernelspec": {
      "name": "python3",
      "display_name": "Python 3"
    },
    "language_info": {
      "name": "python"
    }
  },
  "cells": [
    {
      "cell_type": "code",
      "execution_count": null,
      "metadata": {
        "colab": {
          "base_uri": "https://localhost:8080/"
        },
        "id": "agrsSAWqa8jo",
        "outputId": "dd3bf743-71cf-4960-db84-a0120cd18b29"
      },
      "outputs": [
        {
          "output_type": "stream",
          "name": "stdout",
          "text": [
            "Du darfst Filme ab 0, 6 12 und 16 Jahren schauen.\n"
          ]
        }
      ],
      "source": [
        "alter = 16\n",
        "in_begleitung = False\n",
        "\n",
        "if in_begleitung :\n",
        "  print(\"Du darfst Filme ab 0, 6, 12, 16 und 18 Jahren schauen.\")\n",
        "elif alter >= 18 :\n",
        "  print(\"Du darfst Filme ab 0, 6, 12, 16 und 18 Jahren schauen.\")\n",
        "elif alter >= 16 :\n",
        "  print(\"Du darfst Filme ab 0, 6 12 und 16 Jahren schauen.\")\n",
        "elif alter >= 12 :\n",
        "  print(\"Du darfst Filme ab 0, 6 und 12 Jahren schauen.\")\n",
        "elif alter >= 6 :\n",
        "  print(\"Du darfst Filme ab 0, 6 Jahren schauen.\")\n",
        "else :\n",
        "  print(\"Du darfst Filme ab 0 Jahren schauen.\")"
      ]
    }
  ]
}