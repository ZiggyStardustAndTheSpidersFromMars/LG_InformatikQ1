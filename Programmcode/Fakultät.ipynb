{
  "nbformat": 4,
  "nbformat_minor": 0,
  "metadata": {
    "colab": {
      "provenance": []
    },
    "kernelspec": {
      "name": "python3",
      "display_name": "Python 3"
    },
    "language_info": {
      "name": "python"
    }
  },
  "cells": [
    {
      "cell_type": "code",
      "execution_count": null,
      "metadata": {
        "colab": {
          "base_uri": "https://localhost:8080/"
        },
        "id": "gbUqIHlckxp0",
        "outputId": "0b9bc07c-b3b4-4e53-b9ff-15f0a4246c0d"
      },
      "outputs": [
        {
          "output_type": "stream",
          "name": "stdout",
          "text": [
            "120\n"
          ]
        }
      ],
      "source": [
        "n = 5\n",
        "fak = 1\n",
        "\n",
        "while n > 0 :\n",
        "  fak = fak * n\n",
        "  n = n - 1\n",
        "\n",
        "print(fak)"
      ]
    }
  ]
}