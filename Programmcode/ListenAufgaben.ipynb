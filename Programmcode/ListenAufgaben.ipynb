{
  "nbformat": 4,
  "nbformat_minor": 0,
  "metadata": {
    "colab": {
      "provenance": []
    },
    "kernelspec": {
      "name": "python3",
      "display_name": "Python 3"
    },
    "language_info": {
      "name": "python"
    }
  },
  "cells": [
    {
      "cell_type": "code",
      "execution_count": 3,
      "metadata": {
        "colab": {
          "base_uri": "https://localhost:8080/"
        },
        "id": "5REhTNZGXhRC",
        "outputId": "5defd1ba-17a3-4da3-ea66-5891e4061585"
      },
      "outputs": [
        {
          "output_type": "stream",
          "name": "stdout",
          "text": [
            "[0, 3, 6, 9, 12, 15, 18, 21, 24, 27, 30, 33, 36, 39, 42, 45, 48, 51, 54, 57, 60, 63, 66, 69, 72, 75, 78, 81, 84, 87, 90, 93, 96, 99]\n"
          ]
        }
      ],
      "source": [
        "liste = [] # Liste für Zahlen die durch 3 teilbar sind\n",
        "zaehler = 0\n",
        "\n",
        "while zaehler <= 100 :\n",
        "  if zaehler % 3 == 0 : # Zaehler ist durch 3 teilbar\n",
        "    liste.append(zaehler)\n",
        "  zaehler = zaehler + 1\n",
        "\n",
        "print(liste)"
      ]
    },
    {
      "cell_type": "code",
      "source": [
        "l = [0,5,2,42,8,30] # Liste l aus der Aufgabenstellung\n",
        "max = l[0] # initial ist max einfach das erste Element\n",
        "\n",
        "for i in l :\n",
        "  if i >= max : # Wenn i groeßer ist als max wird max auf i gesetzt\n",
        "    max = i\n",
        "\n",
        "print(max)"
      ],
      "metadata": {
        "colab": {
          "base_uri": "https://localhost:8080/"
        },
        "id": "gwlEGETUYQB3",
        "outputId": "0644208f-8486-468c-f55c-6fe43033b9f9"
      },
      "execution_count": 4,
      "outputs": [
        {
          "output_type": "stream",
          "name": "stdout",
          "text": [
            "42\n"
          ]
        }
      ]
    },
    {
      "cell_type": "code",
      "source": [
        "l = [0,5,2,42,8,30] # Liste mit geraden und ungeraden Zahlen\n",
        "liste_gerade = [] # Liste mit allen geraden Zahlen aus der Liste l\n",
        "\n",
        "for i in l :\n",
        "  if i % 2 == 0 : # Wenn i gerade ist wird es der liste_gerade hinzugefuegt\n",
        "    liste_gerade.append(i)\n",
        "\n",
        "print(liste_gerade)"
      ],
      "metadata": {
        "colab": {
          "base_uri": "https://localhost:8080/"
        },
        "id": "W0pcTfXAYQEc",
        "outputId": "eadeadd4-68ba-478c-c731-0bf454c9526e"
      },
      "execution_count": 5,
      "outputs": [
        {
          "output_type": "stream",
          "name": "stdout",
          "text": [
            "[0, 2, 42, 8, 30]\n"
          ]
        }
      ]
    }
  ]
}